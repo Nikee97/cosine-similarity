{
 "cells": [
  {
   "cell_type": "code",
   "execution_count": null,
   "metadata": {},
   "outputs": [],
   "source": [
    "18030142024"
   ]
  },
  {
   "cell_type": "code",
   "execution_count": 1,
   "metadata": {},
   "outputs": [],
   "source": [
    "import numpy as np"
   ]
  },
  {
   "cell_type": "code",
   "execution_count": 22,
   "metadata": {},
   "outputs": [],
   "source": [
    "#ref: https://www.kaggle.com/ankitswarnkar/word-embedding-using-glove-vector\n",
    "def readGlove(filename):\n",
    "    with open(filename,encoding=\"UTF-8\") as f:\n",
    "        word_vocab = set() # avoiding duplicate entries.\n",
    "        word2vector = {}\n",
    "        for line in f:\n",
    "            line = line.strip()\n",
    "            words_vec = line.split()\n",
    "            word_vocab.add(words_vec[0])\n",
    "            word2vector[words_vec[0]] = np.array(words_vec[1:], dtype= float)\n",
    "        print(\"Total words in the Dataset:\", len(word_vocab))\n",
    "    return word2vector"
   ]
  },
  {
   "cell_type": "code",
   "execution_count": 23,
   "metadata": {},
   "outputs": [],
   "source": [
    "#cosine similarity\n",
    "def cos(u,v):\n",
    "    numerator = np.dot(u,v)\n",
    "    denominator = np.sqrt(np.sum(np.square(u))) * np.sqrt(np.sum(np.square(v)))\n",
    "    return numerator/denominator"
   ]
  },
  {
   "cell_type": "code",
   "execution_count": 27,
   "metadata": {},
   "outputs": [
    {
     "name": "stdout",
     "output_type": "stream",
     "text": [
      "Total words in the Dataset: 400000\n"
     ]
    }
   ],
   "source": [
    "# def get_cosine_sim(*strs): \n",
    "#     vectors = [t for t in get_vectors(*strs)]\n",
    "#     return cosine_similarity(vectors)\n",
    "# read file\n",
    "filename = \"../glove.6B.100d.txt\"\n",
    "all_word_embeddings = readGlove(filename)"
   ]
  },
  {
   "cell_type": "code",
   "execution_count": 28,
   "metadata": {},
   "outputs": [
    {
     "name": "stdout",
     "output_type": "stream",
     "text": [
      "Similar words to  wikipedia  : \n",
      "[('encyclopedia', 0.6324085673759885), ('dictionary', 0.6062762412422509), ('wiki', 0.6038169483271615), ('blog', 0.5999414065147605), ('blogs', 0.5871837675729882), ('website', 0.5870248847965547), ('twitter', 0.5738001494479879), ('facebook', 0.56339863920144), ('articles', 0.561112515903749), ('article', 0.5602530489835932)] \n",
      "\n",
      "Similar words to  software  : \n",
      "[('computer', 0.8373122362654616), ('hardware', 0.7876607305480211), ('microsoft', 0.7803657394718168), ('applications', 0.7419033544013185), ('technology', 0.7358859861699928), ('server', 0.7342712522263172), ('user', 0.7320203798849712), ('computers', 0.7276960193078227), ('desktop', 0.726144088623603), ('web', 0.7209519591762199)] \n",
      "\n",
      "Similar words to  jupiter  : \n",
      "[('moons', 0.7216915989076741), ('planets', 0.6910038953456625), ('saturn', 0.6719237556314522), ('orbits', 0.6706900379873759), ('mars', 0.66510248112101), ('orbiting', 0.6543085127611356), ('orbit', 0.647203945984261), ('neptune', 0.6423762603404085), ('titan', 0.6342677988399731), ('ganymede', 0.633824358373754)] \n",
      "\n",
      "Similar words to  wise  : \n",
      "[('good', 0.6905286878855527), ('honest', 0.636648280681983), ('foolish', 0.6309535161281059), ('smart', 0.6156165891507276), (\"'m\", 0.6144939329936261), ('happy', 0.6134263177172279), ('very', 0.6130837299813309), ('intelligent', 0.6081452614283132), ('really', 0.6079776936004941), ('thing', 0.6052515037783587)] \n",
      "\n"
     ]
    }
   ],
   "source": [
    "# terms\n",
    "terms = [\"wikipedia\", \"software\", \"jupiter\", \"wise\"]\n",
    "similarities = dict()\n",
    "similar_words = dict()\n",
    "for term in terms:\n",
    "    for word in all_word_embeddings.keys():\n",
    "        similar_words[word] = cos(all_word_embeddings.get(term),\n",
    "                                  all_word_embeddings.get(word))\n",
    "        similarities[term] = similar_words\n",
    "    similar_words = dict()\n",
    "\n",
    "for term in similarities.keys():\n",
    "    print('Similar words to ' , term , ' : ')\n",
    "    print(sorted(similarities[term].items() ,\n",
    "                 key = lambda x : x[1])[-2 : len(similarities[term]) - 12 : -1],'\\n')"
   ]
  },
  {
   "cell_type": "code",
   "execution_count": null,
   "metadata": {},
   "outputs": [],
   "source": []
  }
 ],
 "metadata": {
  "kernelspec": {
   "display_name": "Python 3",
   "language": "python",
   "name": "python3"
  },
  "language_info": {
   "codemirror_mode": {
    "name": "ipython",
    "version": 3
   },
   "file_extension": ".py",
   "mimetype": "text/x-python",
   "name": "python",
   "nbconvert_exporter": "python",
   "pygments_lexer": "ipython3",
   "version": "3.6.6"
  }
 },
 "nbformat": 4,
 "nbformat_minor": 2
}
